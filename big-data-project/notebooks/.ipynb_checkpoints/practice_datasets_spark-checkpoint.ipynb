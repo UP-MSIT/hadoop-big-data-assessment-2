{
 "cells": [
  {
   "cell_type": "code",
   "execution_count": 2,
   "id": "508269dc-9f0c-4883-b7b4-26dbab3ab165",
   "metadata": {},
   "outputs": [
    {
     "name": "stdout",
     "output_type": "stream",
     "text": [
      "+----+--------------------+-------+----------------+-------------------+------------------+--------+---------+---------------+-----+--------------+-----------------+-----------+-----------------+------------------------------+----------------+\n",
      "|  id|                name|host_id|       host_name|neighbourhood_group|     neighbourhood|latitude|longitude|      room_type|price|minimum_nights|number_of_reviews|last_review|reviews_per_month|calculated_host_listings_count|availability_365|\n",
      "+----+--------------------+-------+----------------+-------------------+------------------+--------+---------+---------------+-----+--------------+-----------------+-----------+-----------------+------------------------------+----------------+\n",
      "|2539|Clean & quiet apt...|   2787|            John|           Brooklyn|        Kensington|40.64749|-73.97237|   Private room|  149|             1|                9| 2018-10-19|             0.21|                             6|             365|\n",
      "|2595|Skylit Midtown Ca...|   2845|        Jennifer|          Manhattan|           Midtown|40.75362|-73.98377|Entire home/apt|  225|             1|               45| 2019-05-21|             0.38|                             2|             355|\n",
      "|3647|THE VILLAGE OF HA...|   4632|       Elisabeth|          Manhattan|            Harlem|40.80902| -73.9419|   Private room|  150|             3|                0|       null|             null|                             1|             365|\n",
      "|3831|Cozy Entire Floor...|   4869|     LisaRoxanne|           Brooklyn|      Clinton Hill|40.68514|-73.95976|Entire home/apt|   89|             1|              270| 2019-07-05|             4.64|                             1|             194|\n",
      "|5022|Entire Apt: Spaci...|   7192|           Laura|          Manhattan|       East Harlem|40.79851|-73.94399|Entire home/apt|   80|            10|                9| 2018-11-19|             0.10|                             1|               0|\n",
      "|5099|Large Cozy 1 BR A...|   7322|           Chris|          Manhattan|       Murray Hill|40.74767|  -73.975|Entire home/apt|  200|             3|               74| 2019-06-22|             0.59|                             1|             129|\n",
      "|5121|     BlissArtsSpace!|   7356|           Garon|           Brooklyn|Bedford-Stuyvesant|40.68688|-73.95596|   Private room|   60|            45|               49| 2017-10-05|             0.40|                             1|               0|\n",
      "|5178|Large Furnished R...|   8967|        Shunichi|          Manhattan|    Hell's Kitchen|40.76489|-73.98493|   Private room|   79|             2|              430| 2019-06-24|             3.47|                             1|             220|\n",
      "|5203|Cozy Clean Guest ...|   7490|       MaryEllen|          Manhattan|   Upper West Side|40.80178|-73.96723|   Private room|   79|             2|              118| 2017-07-21|             0.99|                             1|               0|\n",
      "|5238|Cute & Cozy Lower...|   7549|             Ben|          Manhattan|         Chinatown|40.71344|-73.99037|Entire home/apt|  150|             1|              160| 2019-06-09|             1.33|                             4|             188|\n",
      "|5295|Beautiful 1br on ...|   7702|            Lena|          Manhattan|   Upper West Side|40.80316|-73.96545|Entire home/apt|  135|             5|               53| 2019-06-22|             0.43|                             1|               6|\n",
      "|5441|Central Manhattan...|   7989|            Kate|          Manhattan|    Hell's Kitchen|40.76076|-73.98867|   Private room|   85|             2|              188| 2019-06-23|             1.50|                             1|              39|\n",
      "|5803|Lovely Room 1, Ga...|   9744|          Laurie|           Brooklyn|       South Slope|40.66829|-73.98779|   Private room|   89|             4|              167| 2019-06-24|             1.34|                             3|             314|\n",
      "|6021|Wonderful Guest B...|  11528|         Claudio|          Manhattan|   Upper West Side|40.79826|-73.96113|   Private room|   85|             2|              113| 2019-07-05|             0.91|                             1|             333|\n",
      "|6090|West Village Nest...|  11975|           Alina|          Manhattan|      West Village| 40.7353|-74.00525|Entire home/apt|  120|            90|               27| 2018-10-31|             0.22|                             1|               0|\n",
      "|6848|Only 2 stops to M...|  15991|   Allen & Irina|           Brooklyn|      Williamsburg|40.70837|-73.95352|Entire home/apt|  140|             2|              148| 2019-06-29|             1.20|                             1|              46|\n",
      "|7097|Perfect for Your ...|  17571|            Jane|           Brooklyn|       Fort Greene|40.69169|-73.97185|Entire home/apt|  215|             2|              198| 2019-06-28|             1.72|                             1|             321|\n",
      "|7322|     Chelsea Perfect|  18946|            Doti|          Manhattan|           Chelsea|40.74192|-73.99501|   Private room|  140|             1|              260| 2019-07-01|             2.12|                             1|              12|\n",
      "|7726|Hip Historic Brow...|  20950|Adam And Charity|           Brooklyn|     Crown Heights|40.67592|-73.94694|Entire home/apt|   99|             3|               53| 2019-06-22|             4.44|                             1|              21|\n",
      "|7750|Huge 2 BR Upper E...|  17985|            Sing|          Manhattan|       East Harlem|40.79685|-73.94872|Entire home/apt|  190|             7|                0|       null|             null|                             2|             249|\n",
      "+----+--------------------+-------+----------------+-------------------+------------------+--------+---------+---------------+-----+--------------+-----------------+-----------+-----------------+------------------------------+----------------+\n",
      "only showing top 20 rows\n",
      "\n",
      "None\n"
     ]
    }
   ],
   "source": [
    "from pyspark.sql import SparkSession\n",
    "from pyspark.sql.functions import col, avg\n",
    "\n",
    "# Initialize Spark session\n",
    "spark = SparkSession.builder \\\n",
    "    .appName(\"AirbnbDataProcessing\") \\\n",
    "    .config(\"spark.hadoop.fs.defaultFS\", \"hdfs://hdfs-namenode:9000\") \\\n",
    "    .getOrCreate()\n",
    "\n",
    "# Read the Airbnb data from HDFS\n",
    "file_path = \"hdfs://hdfs-namenode:9000/datasets\" + \"/AB_NYC_2019.csv\"\n",
    "df = spark.read.csv(file_path, header=True, inferSchema=True)\n",
    "\n",
    "\n",
    "print(df.show())\n"
   ]
  },
  {
   "cell_type": "markdown",
   "id": "e1fa02bc",
   "metadata": {},
   "source": [
    "## Calculate the total number of reviews per neighborhood"
   ]
  },
  {
   "cell_type": "code",
   "execution_count": null,
   "id": "548daac3-0c05-44a6-b253-c11170c50f56",
   "metadata": {},
   "outputs": [
    {
     "name": "stdout",
     "output_type": "stream",
     "text": [
      "+------------------+-------------+\n",
      "|     neighbourhood|total_reviews|\n",
      "+------------------+-------------+\n",
      "|            Corona|           64|\n",
      "|      Richmondtown|            1|\n",
      "|      Prince's Bay|            4|\n",
      "|       Westerleigh|            2|\n",
      "|        Mill Basin|            4|\n",
      "|      Civic Center|           52|\n",
      "|          40.83166|            1|\n",
      "|        Douglaston|            7|\n",
      "|        Mount Hope|           20|\n",
      "|       Marble Hill|           12|\n",
      "|         Rego Park|          106|\n",
      "|          40.81225|            1|\n",
      "|     Dyker Heights|           12|\n",
      "| Kew Gardens Hills|           26|\n",
      "|      Dongan Hills|            7|\n",
      "|          40.81078|            1|\n",
      "|Financial District|          744|\n",
      "|       Bay Terrace|            6|\n",
      "|          40.83117|            1|\n",
      "|           Midtown|         1541|\n",
      "+------------------+-------------+\n",
      "only showing top 20 rows\n",
      "\n",
      "None\n"
     ]
    }
   ],
   "source": [
    "from pyspark.sql.functions import col, count\n",
    "\n",
    "# Handle null values: fill nulls with default values or drop rows with nulls\n",
    "df = df.na.fill({\n",
    "    'neighbourhood': 'Unknown',\n",
    "    'number_of_reviews': 0\n",
    "})\n",
    "\n",
    "reviews_per_neighborhood = df.groupBy(\"neighbourhood\").agg(count(\"number_of_reviews\").alias(\"total_reviews\"))\n",
    "print(reviews_per_neighborhood.show())\n"
   ]
  },
  {
   "cell_type": "code",
   "execution_count": 4,
   "id": "68b7cfde",
   "metadata": {},
   "outputs": [
    {
     "name": "stdout",
     "output_type": "stream",
     "text": [
      "+------------------+-------------+\n",
      "|     neighbourhood|total_reviews|\n",
      "+------------------+-------------+\n",
      "|         Rego Park|          106|\n",
      "|Financial District|          744|\n",
      "|           Midtown|         1541|\n",
      "|   Jackson Heights|          184|\n",
      "|    Hell's Kitchen|         1951|\n",
      "|   Windsor Terrace|          157|\n",
      "| Greenwich Village|          390|\n",
      "|      Clinton Hill|          571|\n",
      "|Washington Heights|          895|\n",
      "|  Ditmars Steinway|          306|\n",
      "|        Kensington|          175|\n",
      "|           Tribeca|          177|\n",
      "|          Flushing|          423|\n",
      "|     East Elmhurst|          183|\n",
      "|   Upper East Side|         1791|\n",
      "|          Canarsie|          143|\n",
      "|    Sheepshead Bay|          163|\n",
      "|       East Harlem|         1112|\n",
      "|           Astoria|          898|\n",
      "|   Lower East Side|          911|\n",
      "+------------------+-------------+\n",
      "only showing top 20 rows\n",
      "\n",
      "None\n"
     ]
    }
   ],
   "source": [
    "popular_neighborhoods = reviews_per_neighborhood.filter(col(\"total_reviews\") > 100)\n",
    "print(popular_neighborhoods.show())"
   ]
  },
  {
   "cell_type": "code",
   "execution_count": 5,
   "id": "438cbe2e",
   "metadata": {},
   "outputs": [
    {
     "name": "stdout",
     "output_type": "stream",
     "text": [
      "Average Price per Neighborhood:\n",
      "+------------------+------------------+\n",
      "|     neighbourhood|         avg_price|\n",
      "+------------------+------------------+\n",
      "|            Corona|         59.171875|\n",
      "|      Richmondtown|              78.0|\n",
      "|      Prince's Bay|             409.5|\n",
      "|       Westerleigh|              71.5|\n",
      "|        Mill Basin|            179.75|\n",
      "|      Civic Center|191.94230769230768|\n",
      "|          40.83166|               1.0|\n",
      "|        Douglaston| 88.14285714285714|\n",
      "|        Mount Hope|              77.5|\n",
      "|       Marble Hill| 89.16666666666667|\n",
      "|         Rego Park| 83.87735849056604|\n",
      "|          40.81225|               2.0|\n",
      "|     Dyker Heights| 93.41666666666667|\n",
      "| Kew Gardens Hills| 112.3076923076923|\n",
      "|      Dongan Hills| 79.42857142857143|\n",
      "|          40.81078|               3.0|\n",
      "|Financial District|225.49059139784947|\n",
      "|       Bay Terrace|             142.0|\n",
      "|          40.83117|               1.0|\n",
      "|           Midtown| 282.7839065541856|\n",
      "+------------------+------------------+\n",
      "only showing top 20 rows\n",
      "\n"
     ]
    }
   ],
   "source": [
    "df.createOrReplaceTempView(\"airbnb\")\n",
    "\n",
    "avg_price_per_neighborhood = spark.sql(\"\"\"\n",
    "    SELECT neighbourhood, AVG(price) AS avg_price\n",
    "    FROM airbnb\n",
    "    GROUP BY neighbourhood\n",
    "\"\"\")\n",
    "print(\"Average Price per Neighborhood:\")\n",
    "avg_price_per_neighborhood.show()"
   ]
  },
  {
   "cell_type": "markdown",
   "id": "b62f82a7",
   "metadata": {},
   "source": [
    "### Calculate the Average Price per Neighborhood"
   ]
  },
  {
   "cell_type": "code",
   "execution_count": 6,
   "id": "c049a2a3",
   "metadata": {},
   "outputs": [
    {
     "name": "stdout",
     "output_type": "stream",
     "text": [
      "Total Reviews per Neighborhood:\n",
      "+------------------+-------------+\n",
      "|     neighbourhood|total_reviews|\n",
      "+------------------+-------------+\n",
      "|            Corona|           64|\n",
      "|      Richmondtown|            1|\n",
      "|      Prince's Bay|            4|\n",
      "|       Westerleigh|            2|\n",
      "|        Mill Basin|            4|\n",
      "|      Civic Center|           52|\n",
      "|          40.83166|            1|\n",
      "|        Douglaston|            7|\n",
      "|        Mount Hope|           20|\n",
      "|       Marble Hill|           12|\n",
      "|         Rego Park|          106|\n",
      "|          40.81225|            1|\n",
      "|     Dyker Heights|           12|\n",
      "| Kew Gardens Hills|           26|\n",
      "|      Dongan Hills|            7|\n",
      "|          40.81078|            1|\n",
      "|Financial District|          744|\n",
      "|       Bay Terrace|            6|\n",
      "|          40.83117|            1|\n",
      "|           Midtown|         1541|\n",
      "+------------------+-------------+\n",
      "only showing top 20 rows\n",
      "\n"
     ]
    }
   ],
   "source": [
    "reviews_per_neighborhood = spark.sql(\"\"\"\n",
    "    SELECT neighbourhood, COUNT(number_of_reviews) AS total_reviews\n",
    "    FROM airbnb\n",
    "    GROUP BY neighbourhood\n",
    "\"\"\")\n",
    "print(\"Total Reviews per Neighborhood:\")\n",
    "reviews_per_neighborhood.show()"
   ]
  },
  {
   "cell_type": "markdown",
   "id": "e8f20994",
   "metadata": {},
   "source": [
    "### Calculate the Average Price and Total Reviews per Neighborhood:"
   ]
  },
  {
   "cell_type": "code",
   "execution_count": 9,
   "id": "9efaac3d",
   "metadata": {},
   "outputs": [
    {
     "name": "stdout",
     "output_type": "stream",
     "text": [
      "Average Price and Total Reviews per Neighborhood:\n",
      "+------------------+------------------+-------------+\n",
      "|     neighbourhood|         avg_price|total_reviews|\n",
      "+------------------+------------------+-------------+\n",
      "|            Corona|         59.171875|           64|\n",
      "|      Richmondtown|              78.0|            1|\n",
      "|      Prince's Bay|             409.5|            4|\n",
      "|       Westerleigh|              71.5|            2|\n",
      "|        Mill Basin|            179.75|            4|\n",
      "|      Civic Center|191.94230769230768|           52|\n",
      "|          40.83166|               1.0|            1|\n",
      "|        Douglaston| 88.14285714285714|            7|\n",
      "|        Mount Hope|              77.5|           20|\n",
      "|       Marble Hill| 89.16666666666667|           12|\n",
      "|         Rego Park| 83.87735849056604|          106|\n",
      "|          40.81225|               2.0|            1|\n",
      "|     Dyker Heights| 93.41666666666667|           12|\n",
      "| Kew Gardens Hills| 112.3076923076923|           26|\n",
      "|      Dongan Hills| 79.42857142857143|            7|\n",
      "|          40.81078|               3.0|            1|\n",
      "|Financial District|225.49059139784947|          744|\n",
      "|       Bay Terrace|             142.0|            6|\n",
      "|          40.83117|               1.0|            1|\n",
      "|           Midtown| 282.7839065541856|         1541|\n",
      "+------------------+------------------+-------------+\n",
      "only showing top 20 rows\n",
      "\n"
     ]
    }
   ],
   "source": [
    "avg_price_and_reviews = spark.sql(\"\"\"\n",
    "    SELECT neighbourhood, AVG(price) AS avg_price, COUNT(number_of_reviews) AS total_reviews\n",
    "    FROM airbnb\n",
    "    GROUP BY neighbourhood\n",
    "\"\"\")\n",
    "print(\"Average Price and Total Reviews per Neighborhood:\")\n",
    "avg_price_and_reviews.show()"
   ]
  },
  {
   "cell_type": "markdown",
   "id": "4d85970a",
   "metadata": {},
   "source": [
    "## Amazon Sale Data"
   ]
  },
  {
   "cell_type": "code",
   "execution_count": null,
   "id": "b44ef50d",
   "metadata": {},
   "outputs": [
    {
     "name": "stdout",
     "output_type": "stream",
     "text": [
      "+--------------------+------------------+\n",
      "|           ship-city|       total_sales|\n",
      "+--------------------+------------------+\n",
      "|             GWALIOR|          91540.91|\n",
      "|           Bangalore|441524.61999999994|\n",
      "|   Avinashi, Tirupur|            9507.0|\n",
      "|NANDIVARAM GUDUVA...|29664.420000000002|\n",
      "|         KODUNGALLUR|            4991.0|\n",
      "|            GULAOTHI|             476.0|\n",
      "|            Zirakpur| 8929.619999999999|\n",
      "|        Kudukkimotta|            3766.0|\n",
      "|        CHEKONIDHARA|            2225.0|\n",
      "|            JHINJHAK|            1288.0|\n",
      "|            DHAULPUR|            4951.0|\n",
      "|               JOWAI|           6179.29|\n",
      "|        YELAMANCHILI|            3217.0|\n",
      "|         SIKANDRABAD|            1186.0|\n",
      "|          KUMARAGIRI|             517.0|\n",
      "|              CHOPRA|             547.0|\n",
      "|            TALIKOTA|            1532.0|\n",
      "|             Udaipur|          17404.15|\n",
      "|ATMAKUR SRI POTTI...|            4739.0|\n",
      "|         JillelaGuda|            1740.0|\n",
      "+--------------------+------------------+\n",
      "only showing top 20 rows\n",
      "\n"
     ]
    }
   ],
   "source": [
    "# Initialize Spark session\n",
    "spark = SparkSession.builder \\\n",
    "    .appName(\"AmazonDataProcessing\") \\\n",
    "    .config(\"spark.hadoop.fs.defaultFS\", \"hdfs://hdfs-namenode:9000\") \\\n",
    "    .getOrCreate()\n",
    "\n",
    "# Read the Amazon data from HDFS\n",
    "amazon_data = \"hdfs://hdfs-namenode:9000/datasets\" + \"/Amazon Sale Report.csv\"\n",
    "amazon_data_df = spark.read.csv(amazon_data, header=True, inferSchema=True)\n",
    "\n",
    "\n",
    "total_sales_per_city = amazon_data_df.groupBy(\"ship-city\").agg(sum(\"Amount\").alias(\"total_sales\"))\n",
    "\n",
    "total_sales_per_city.show()\n",
    "# print(amazon_data_df.show())\n"
   ]
  },
  {
   "cell_type": "code",
   "execution_count": 18,
   "id": "5b0bf056",
   "metadata": {},
   "outputs": [
    {
     "name": "stdout",
     "output_type": "stream",
     "text": [
      "root\n",
      " |-- index: integer (nullable = true)\n",
      " |-- Order ID: string (nullable = true)\n",
      " |-- Date: string (nullable = true)\n",
      " |-- Status: string (nullable = true)\n",
      " |-- Fulfilment: string (nullable = true)\n",
      " |-- Sales Channel : string (nullable = true)\n",
      " |-- ship-service-level: string (nullable = true)\n",
      " |-- Style: string (nullable = true)\n",
      " |-- SKU: string (nullable = true)\n",
      " |-- Category: string (nullable = true)\n",
      " |-- Size: string (nullable = true)\n",
      " |-- ASIN: string (nullable = true)\n",
      " |-- Courier Status: string (nullable = true)\n",
      " |-- Qty: integer (nullable = true)\n",
      " |-- currency: string (nullable = true)\n",
      " |-- Amount: double (nullable = true)\n",
      " |-- ship-city: string (nullable = true)\n",
      " |-- ship-state: string (nullable = true)\n",
      " |-- ship-postal-code: double (nullable = true)\n",
      " |-- ship-country: string (nullable = true)\n",
      " |-- promotion-ids: string (nullable = true)\n",
      " |-- B2B: boolean (nullable = true)\n",
      " |-- fulfilled-by: string (nullable = true)\n",
      " |-- Unnamed: 22: boolean (nullable = true)\n",
      "\n"
     ]
    }
   ],
   "source": [
    "amazon_data_df.printSchema()"
   ]
  },
  {
   "cell_type": "code",
   "execution_count": null,
   "id": "63843ee9",
   "metadata": {},
   "outputs": [],
   "source": []
  }
 ],
 "metadata": {
  "kernelspec": {
   "display_name": "Python 3 (ipykernel)",
   "language": "python",
   "name": "python3"
  },
  "language_info": {
   "codemirror_mode": {
    "name": "ipython",
    "version": 3
   },
   "file_extension": ".py",
   "mimetype": "text/x-python",
   "name": "python",
   "nbconvert_exporter": "python",
   "pygments_lexer": "ipython3",
   "version": "3.8.13"
  }
 },
 "nbformat": 4,
 "nbformat_minor": 5
}
